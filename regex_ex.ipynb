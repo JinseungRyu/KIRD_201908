{
 "cells": [
  {
   "cell_type": "code",
   "execution_count": 3,
   "metadata": {},
   "outputs": [],
   "source": [
    "import re"
   ]
  },
  {
   "cell_type": "markdown",
   "metadata": {},
   "source": [
    "- re.I : Performs case-insensitive matching."
   ]
  },
  {
   "cell_type": "code",
   "execution_count": 4,
   "metadata": {},
   "outputs": [
    {
     "name": "stdout",
     "output_type": "stream",
     "text": [
      "matchObj.groups() :  ('Cats', 'smarter')\n",
      "matchObj.group(0) :  Cats are smarter \n",
      "matchObj.group(2) :  smarter\n"
     ]
    }
   ],
   "source": [
    "line = \"\"\"Cats are smarter \n",
    "than dogs\"\"\"\n",
    "\n",
    "matchObj = re.match( r'(.*) Are (.*?) .*', line, re.I)\n",
    "\n",
    "if matchObj:\n",
    "   print (\"matchObj.groups() : \", matchObj.groups())\n",
    "   print (\"matchObj.group(0) : \", matchObj.group(0))\n",
    "   print (\"matchObj.group(2) : \", matchObj.group(2))\n",
    "else:\n",
    "   print (\"No match!!\")\n"
   ]
  },
  {
   "cell_type": "code",
   "execution_count": 5,
   "metadata": {},
   "outputs": [],
   "source": [
    "경로 = r'C:\\Users\\student\\Documents\\kird'\n",
    "#문자열에 r 을 넣는 것은 raw 문자열임을 의미하는 것으로 'excape(\\)' 값을 해석하지 않게 되는 것이다."
   ]
  },
  {
   "cell_type": "markdown",
   "metadata": {},
   "source": [
    "### match, search 차이 확인하기"
   ]
  },
  {
   "cell_type": "code",
   "execution_count": 6,
   "metadata": {},
   "outputs": [
    {
     "name": "stdout",
     "output_type": "stream",
     "text": [
      "No match!!\n",
      "search --> searchObj.group() :  dogs\n"
     ]
    }
   ],
   "source": [
    "line = \"Cats are smarter than dogs\";\n",
    "\n",
    "matchObj = re.match( r'dogs', line, re.M|re.I)\n",
    "if matchObj:\n",
    "   print (\"match --> matchObj.group() : \", matchObj.group())\n",
    "else:\n",
    "   print (\"No match!!\")\n",
    "\n",
    "searchObj = re.search( r'dogs', line, re.M|re.I)\n",
    "if searchObj:\n",
    "   print (\"search --> searchObj.group() : \", searchObj.group())\n",
    "else:\n",
    "   print (\"Nothing found!!\")"
   ]
  },
  {
   "cell_type": "markdown",
   "metadata": {},
   "source": [
    "### sub() 예시"
   ]
  },
  {
   "cell_type": "code",
   "execution_count": 7,
   "metadata": {},
   "outputs": [
    {
     "name": "stdout",
     "output_type": "stream",
     "text": [
      "Phone Num :  010-9359-5159 \n",
      "Phone Num :  01093595159\n"
     ]
    }
   ],
   "source": [
    "phone = \"010-9359-5159 # This is Phone Number\"\n",
    "\n",
    "# Delete Python-style comments\n",
    "num = re.sub(r'#.*$', \"\", phone)\n",
    "print (\"Phone Num : \", num)\n",
    "\n",
    "# Remove anything other than digits\n",
    "num = re.sub(r'\\D', \"\", phone)    \n",
    "print (\"Phone Num : \", num)"
   ]
  },
  {
   "cell_type": "markdown",
   "metadata": {},
   "source": [
    "### split()  예시"
   ]
  },
  {
   "cell_type": "code",
   "execution_count": 8,
   "metadata": {},
   "outputs": [
    {
     "data": {
      "text/plain": [
       "['0', '3', '', '9']"
      ]
     },
     "execution_count": 8,
     "metadata": {},
     "output_type": "execute_result"
    }
   ],
   "source": [
    "re.split(r'[a-f]', '0a3BC9', flags=re.I)"
   ]
  },
  {
   "cell_type": "code",
   "execution_count": 9,
   "metadata": {},
   "outputs": [
    {
     "data": {
      "text/plain": [
       "['Apple', ':', 'Orange', ',', 'Banana', '|', 'Kiwi Tomato']"
      ]
     },
     "execution_count": 9,
     "metadata": {},
     "output_type": "execute_result"
    }
   ],
   "source": [
    "re.split(r'([:,| ])', 'Apple:Orange,Banana|Kiwi Tomato', maxsplit=3)"
   ]
  },
  {
   "cell_type": "markdown",
   "metadata": {},
   "source": [
    "### re.compile()은 regex 패턴을 re object화 해서 re.methods()들을 바로 사용할 수 있게 하는것이라 생각하면 됨"
   ]
  },
  {
   "cell_type": "code",
   "execution_count": 10,
   "metadata": {},
   "outputs": [],
   "source": [
    "c = re.compile(r'app\\w*')"
   ]
  },
  {
   "cell_type": "code",
   "execution_count": 11,
   "metadata": {},
   "outputs": [
    {
     "data": {
      "text/plain": [
       "['apple', 'application']"
      ]
     },
     "execution_count": 11,
     "metadata": {},
     "output_type": "execute_result"
    }
   ],
   "source": [
    "c.findall('apple\\'s application: orange, kiwi')"
   ]
  },
  {
   "cell_type": "code",
   "execution_count": 12,
   "metadata": {},
   "outputs": [
    {
     "data": {
      "text/plain": [
       "'apple'"
      ]
     },
     "execution_count": 12,
     "metadata": {},
     "output_type": "execute_result"
    }
   ],
   "source": [
    "so = c.search('apple\\'s application: orange, kiwi')\n",
    "so.group()"
   ]
  },
  {
   "cell_type": "code",
   "execution_count": 13,
   "metadata": {},
   "outputs": [
    {
     "data": {
      "text/plain": [
       "'app'"
      ]
     },
     "execution_count": 13,
     "metadata": {},
     "output_type": "execute_result"
    }
   ],
   "source": [
    "so = c.search('app application: orange, kiwi')\n",
    "so.group()"
   ]
  },
  {
   "cell_type": "markdown",
   "metadata": {},
   "source": [
    "### re.findall()"
   ]
  },
  {
   "cell_type": "code",
   "execution_count": 14,
   "metadata": {},
   "outputs": [
    {
     "data": {
      "text/plain": [
       "['010-1234-5578', '042-888-2323']"
      ]
     },
     "execution_count": 14,
     "metadata": {},
     "output_type": "execute_result"
    }
   ],
   "source": [
    "정규표현식 = '\\\\d{3}-\\\\d{3,4}-\\\\d{4}'\n",
    "text = \"제 번호로 연락바랍니다. 010-1234-5578 또는  042-888-2323\"\n",
    "re.findall(정규표현식, text)"
   ]
  },
  {
   "cell_type": "code",
   "execution_count": 15,
   "metadata": {},
   "outputs": [
    {
     "data": {
      "text/plain": [
       "['042-888-2323']"
      ]
     },
     "execution_count": 15,
     "metadata": {},
     "output_type": "execute_result"
    }
   ],
   "source": [
    "text2 = \"제 번호로 연락바랍니다. 010.1234.5578 혹은 042-888-2323\"\n",
    "re.findall(정규표현식, text2)"
   ]
  },
  {
   "cell_type": "code",
   "execution_count": 16,
   "metadata": {},
   "outputs": [
    {
     "data": {
      "text/plain": [
       "['010.1234.5578', '042-888-2323']"
      ]
     },
     "execution_count": 16,
     "metadata": {},
     "output_type": "execute_result"
    }
   ],
   "source": [
    "정규표현식 = r'\\d{3}.\\d{3,4}.\\d{4}'\n",
    "re.findall(정규표현식, text2)"
   ]
  },
  {
   "cell_type": "code",
   "execution_count": 17,
   "metadata": {},
   "outputs": [],
   "source": [
    "고객의견 = [\n",
    "    '판매제품문의 : 010-1234-5678로 부탁드려요. 010.2345.2345',\n",
    "    '교환 반품 010.2345.6789 연락주세요.'\n",
    "]"
   ]
  },
  {
   "cell_type": "code",
   "execution_count": 18,
   "metadata": {},
   "outputs": [
    {
     "data": {
      "text/plain": [
       "[('010', '1234', '5678'), ('010', '2345', '2345')]"
      ]
     },
     "execution_count": 18,
     "metadata": {},
     "output_type": "execute_result"
    }
   ],
   "source": [
    "패턴 = r'(\\d{3}).(\\d{4}).(\\d{4})'\n",
    "re.findall(패턴,고객의견[0])"
   ]
  },
  {
   "cell_type": "code",
   "execution_count": 27,
   "metadata": {},
   "outputs": [
    {
     "data": {
      "text/plain": [
       "'판매제품문의 : 010-****-5678로 부탁드려요. 010-****-2345'"
      ]
     },
     "execution_count": 27,
     "metadata": {},
     "output_type": "execute_result"
    }
   ],
   "source": [
    "re.sub(패턴, r'\\g<1>-****-\\3', 고객의견[0])"
   ]
  },
  {
   "cell_type": "markdown",
   "metadata": {},
   "source": [
    "### 010-12**-4567 형태로 바꿀려면 어떻게 하면 좋을까?"
   ]
  },
  {
   "cell_type": "code",
   "execution_count": 32,
   "metadata": {},
   "outputs": [
    {
     "name": "stdout",
     "output_type": "stream",
     "text": [
      "판매제품문의 : 010-****-5678로 부탁드려요. 010-****-2345\n",
      "교환 반품 010-****-6789 연락주세요.\n"
     ]
    }
   ],
   "source": [
    "for 의견 in 고객의견:\n",
    "    print(re.sub(패턴, r'\\1-****-\\3', 의견))"
   ]
  },
  {
   "cell_type": "markdown",
   "metadata": {},
   "source": [
    "### regex를 pandas에서도 지원함"
   ]
  },
  {
   "cell_type": "code",
   "execution_count": 33,
   "metadata": {},
   "outputs": [],
   "source": [
    "from pandas import Series, DataFrame"
   ]
  },
  {
   "cell_type": "code",
   "execution_count": 37,
   "metadata": {},
   "outputs": [],
   "source": [
    "voc = Series(고객의견)"
   ]
  },
  {
   "cell_type": "code",
   "execution_count": 39,
   "metadata": {},
   "outputs": [
    {
     "data": {
      "text/plain": [
       "0    판매제품문의 : 010-1234-5678로 부탁드려요. 010.2345.2345\n",
       "1                      교환 반품 010.2345.6789 연락주세요.\n",
       "dtype: object"
      ]
     },
     "execution_count": 39,
     "metadata": {},
     "output_type": "execute_result"
    }
   ],
   "source": [
    "voc"
   ]
  },
  {
   "cell_type": "code",
   "execution_count": 38,
   "metadata": {},
   "outputs": [
    {
     "name": "stderr",
     "output_type": "stream",
     "text": [
      "/Users/jsuu/anaconda3/lib/python3.7/site-packages/ipykernel_launcher.py:1: UserWarning: This pattern has match groups. To actually get the groups, use str.extract.\n",
      "  \"\"\"Entry point for launching an IPython kernel.\n"
     ]
    },
    {
     "data": {
      "text/plain": [
       "0    True\n",
       "1    True\n",
       "dtype: bool"
      ]
     },
     "execution_count": 38,
     "metadata": {},
     "output_type": "execute_result"
    }
   ],
   "source": [
    "voc.str.contains(패턴)"
   ]
  },
  {
   "cell_type": "code",
   "execution_count": 41,
   "metadata": {},
   "outputs": [
    {
     "data": {
      "text/plain": [
       "0    판매제품문의 : 010-****-5678로 부탁드려요. 010-****-2345\n",
       "1                      교환 반품 010-****-6789 연락주세요.\n",
       "dtype: object"
      ]
     },
     "execution_count": 41,
     "metadata": {},
     "output_type": "execute_result"
    }
   ],
   "source": [
    "voc.str.replace(패턴, r'\\g<1>-****-\\3')"
   ]
  },
  {
   "cell_type": "code",
   "execution_count": 44,
   "metadata": {},
   "outputs": [
    {
     "data": {
      "text/plain": [
       "0    010-1234-5678\n",
       "1    010.2345.6789\n",
       "dtype: object"
      ]
     },
     "execution_count": 44,
     "metadata": {},
     "output_type": "execute_result"
    }
   ],
   "source": [
    "voc.str.findall(정규표현식).str[0]"
   ]
  },
  {
   "cell_type": "markdown",
   "metadata": {},
   "source": [
    "### 년도 형식 찾아보기\n",
    " - 위키페이지에서 세종을 검색"
   ]
  },
  {
   "cell_type": "code",
   "execution_count": null,
   "metadata": {},
   "outputs": [],
   "source": [
    "세종=\"\"\"세종(朝鮮 世宗, 1397년 5월 7일[1] (음력 4월 10일) ~ 1450년 3월 30일(음력 2월 17일), 재위 1418년 ~ 1450년)은 조선의 제4대 군주이며 언어학자이다. 그의 업적에 대한 존경의 의미를 담은 명칭인 세종대왕(世宗大王)으로 자주 일컬어진다. 성은 이(李), 휘는 도(祹), 본관은 전주(全州), 자는 원정(元正), 아명은 막동(莫同)이다. 세종은 묘호이며, 시호는 영문예무인성명효대왕(英文睿武仁聖明孝大王)이고, 명나라에서 받은 시호는 장헌(莊憲)이다. 존시를 합치면 세종장헌영문예무인성명효대왕(世宗莊憲英文睿武仁聖明孝大王)이 된다. 태종과 원경왕후의 셋째 아들이며, 비는 청천부원군(靑川府院君) 심온의 딸 소헌왕후 심씨(昭憲王后 沈氏)이며, 조선의 왕 중에서 왕세자에게 양위를 하지 않고 훙서한 최초의 왕이다.[2][3]\n",
    "\n",
    "한성 준수방(지금의 서울특별시 종로구 통인동) 고을에서 아버지 정안군 이방원과 어머니 민씨 부인의 셋째 아들로 태어났으며 태종 8년(1408년) 충녕군(忠寧君)에 봉해졌다가, 태종 12년(1412년), 둘째 형 효령군 이보와 함께 대군으로 진봉된다. 1418년 첫째 형 양녕대군이 왕세자에서 폐위되면서 세자로 책봉되었고 얼마 후 부왕의 선위로 즉위하였다. 즉위 초반 4년간 부왕 태종이 대리청정을 하며 국정과 정무를 주관하였고 이때 장인 심온과 그의 측근들이 사형에 처해졌다. 이후 주변의 소헌왕후 폐출 주장을 일축했고, 건강이 좋지 않았던 그는 김종서, 맹사성 등을 등용하여 정무를 주관하였는데 이 통치체제는 일종의 내각 중심 정치제도인 의정부서사제의 효시가 되었다.\n",
    "\n",
    "세종은 과학, 예술, 문화등 많은 분야에서 뛰어난 왕이었다. 그는 백성들에게 농사에 관한 책을 퍼내었지만 글을 읽지 못해 보지 못하는 모습을 보고[4] 1443년 누구나 쉽게 배울 수 있는 효율적이고 과학적인 문자 체계인 훈민정음(訓民正音)을 창제하였다. 이것은 20세기 주시경에 의해 한글로 발전되어, 오늘날 대한민국의 공식 문자로서 널리 쓰이고 있다. 10월 9일은 한글날로 기념한다. 과학 기술에도 두루 관심을 기울여 혼천의, 앙부일구, 자격루, 측우기 등의 발명을 전폭적으로 지원했고, 신분을 뛰어넘어 장영실, 최해산 등의 학자들을 적극 후원하였다.\n",
    "\n",
    "국방에 있어서는 이징옥, 최윤덕 등을 북방으로 보내 평안도와 함길도에 출몰하는 여진족을 국경 밖으로 몰아내고 4군 6진을 개척하여 압록강과 두만강 유역으로 국경을 확장하였고, 백성들을 옮겨 살게 하는 사민정책(徙民政策)을 실시하여 국토의 균형된 발전을 위해서도 노력하였다. 또한 이종무를 파견하여 왜구를 토벌하고 대마도를 정벌하였다. 이 밖에도 법전과 문물을 정비하였고 조세 제도의 확립에도 업적을 남겼다. 하지만 당뇨, 성병(이 시대에는 생식기와 관련된 병이면 성병이라고 불렀다.) 등을 이기지 못하고 1450년에 승하했다.\"\"\""
   ]
  },
  {
   "cell_type": "code",
   "execution_count": null,
   "metadata": {},
   "outputs": [],
   "source": [
    "패턴 = r'\\d{4}년 \\d{1,2}월 \\d{1,2}일'\n",
    "re.findall(패턴,세종)"
   ]
  },
  {
   "cell_type": "code",
   "execution_count": null,
   "metadata": {},
   "outputs": [],
   "source": []
  },
  {
   "cell_type": "code",
   "execution_count": null,
   "metadata": {},
   "outputs": [],
   "source": []
  },
  {
   "cell_type": "code",
   "execution_count": null,
   "metadata": {},
   "outputs": [],
   "source": []
  }
 ],
 "metadata": {
  "kernelspec": {
   "display_name": "Python 3",
   "language": "python",
   "name": "python3"
  },
  "language_info": {
   "codemirror_mode": {
    "name": "ipython",
    "version": 3
   },
   "file_extension": ".py",
   "mimetype": "text/x-python",
   "name": "python",
   "nbconvert_exporter": "python",
   "pygments_lexer": "ipython3",
   "version": "3.7.3"
  }
 },
 "nbformat": 4,
 "nbformat_minor": 2
}
