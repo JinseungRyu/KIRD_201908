{
 "cells": [
  {
   "cell_type": "markdown",
   "metadata": {},
   "source": [
    "<a id=\"section_10\">Section Link Test</a>"
   ]
  },
  {
   "cell_type": "markdown",
   "metadata": {},
   "source": [
    "# heading 1\n",
    "## heading 2\n",
    "### heading 3\n",
    "#### heading 4\n",
    "###### heading 6\n",
    "####### nomore heading"
   ]
  },
  {
   "cell_type": "markdown",
   "metadata": {},
   "source": [
    "*italic* _italic_ **bold** __bold__"
   ]
  },
  {
   "cell_type": "markdown",
   "metadata": {},
   "source": [
    "$$e^{i\\pi} + 1 = 0$$"
   ]
  },
  {
   "cell_type": "markdown",
   "metadata": {},
   "source": [
    "single sign (\\\\$) symbol used for in the line like this : $e^x=\\sum_{i=0}^\\infty \\frac{1}{i!}x^i$ "
   ]
  },
  {
   "cell_type": "markdown",
   "metadata": {},
   "source": [
    "Monospace font: Surround text with a back single quotation mark. (`) Use monospace for file path and file names and for text users enter or message text users see."
   ]
  },
  {
   "cell_type": "markdown",
   "metadata": {},
   "source": [
    "`Monospace font`: Surround text with a back single quotation mark. <br>  (`) Use monospace for file path and file names and for text users enter or message text users see."
   ]
  },
  {
   "cell_type": "markdown",
   "metadata": {},
   "source": [
    "<font color=blue>__highlight font__</font>"
   ]
  },
  {
   "cell_type": "markdown",
   "metadata": {},
   "source": [
    "> indented one\n",
    "        >>> two\n"
   ]
  },
  {
   "cell_type": "markdown",
   "metadata": {},
   "source": [
    "### itemized list\n",
    "* one\n",
    "    - two\n",
    "       - three\n",
    "         * four : only 3 bullets"
   ]
  },
  {
   "cell_type": "markdown",
   "metadata": {},
   "source": [
    "### numbered list\n",
    "1. one\n",
    "    1. sub one\n",
    "        1. sub sub one\n",
    "            1. sub sub sub one\n",
    "                1. sub.... one\n",
    "                \n",
    "1. one\n",
    "    1. <br>1. sub text"
   ]
  },
  {
   "cell_type": "markdown",
   "metadata": {},
   "source": [
    "<img src=\"../pandas_python.jpg\" alt=\"Alt text that describes the graphic\" title=\"pandas\" />"
   ]
  },
  {
   "cell_type": "markdown",
   "metadata": {},
   "source": [
    "Link to [section title](#section_10)"
   ]
  },
  {
   "cell_type": "markdown",
   "metadata": {},
   "source": [
    "[python document](http://docs.python.org)"
   ]
  },
  {
   "cell_type": "code",
   "execution_count": null,
   "metadata": {},
   "outputs": [],
   "source": []
  }
 ],
 "metadata": {
  "kernelspec": {
   "display_name": "Python 3",
   "language": "python",
   "name": "python3"
  },
  "language_info": {
   "codemirror_mode": {
    "name": "ipython",
    "version": 3
   },
   "file_extension": ".py",
   "mimetype": "text/x-python",
   "name": "python",
   "nbconvert_exporter": "python",
   "pygments_lexer": "ipython3",
   "version": "3.7.1"
  }
 },
 "nbformat": 4,
 "nbformat_minor": 2
}
